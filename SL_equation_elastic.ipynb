{
 "cells": [
  {
   "cell_type": "code",
   "execution_count": 1,
   "id": "237057a4",
   "metadata": {},
   "outputs": [],
   "source": [
    "import numpy as np\n",
    "import pyshtools as pysh\n",
    "from scipy import io\n",
    "from scipy import interpolate\n",
    "from matplotlib import pyplot as plt\n",
    "import time"
   ]
  },
  {
   "cell_type": "markdown",
   "id": "1e92534d",
   "metadata": {},
   "source": [
    "# Code to solve the elastic sea level equation following "
   ]
  },
  {
   "cell_type": "markdown",
   "id": "bdb52e3a",
   "metadata": {},
   "source": [
    "Kendall et al., 2005 and Austermann et al., 2015\n",
    "\n",
    "J. Austermann 2015\n",
    "\n",
    "Translated to Python and modified by A. Wickert, 2015"
   ]
  },
  {
   "cell_type": "markdown",
   "id": "650f9e89",
   "metadata": {},
   "source": [
    "## Functions called in the main body"
   ]
  },
  {
   "cell_type": "code",
   "execution_count": 3,
   "id": "456dad31",
   "metadata": {},
   "outputs": [],
   "source": [
    "def reorder_m_to_l_primary(ml):\n",
    "  # maxdeg + 1 b/c [0...maxdeg]\n",
    "  lm_grid = np.nan * np.zeros((maxdeg + 1, maxdeg + 1), dtype='complex')\n",
    "  j = 0\n",
    "  for i in range(maxdeg + 1):\n",
    "    lm_grid[i:, i] = ml[j:j+maxdeg+1-i]\n",
    "    j += maxdeg + 1 - i\n",
    "  lm = []\n",
    "  for row in lm_grid:\n",
    "    lm += list(row[np.isnan(row) == False])\n",
    "  lm = np.array(lm)\n",
    "  return lm\n",
    "\n",
    "def reorder_l_to_m_primary(lm):\n",
    "  # maxdeg + 1 b/c [0...maxdeg]\n",
    "  ml_grid = np.nan * np.zeros((maxdeg + 1, maxdeg + 1), dtype='complex')\n",
    "  j = 0\n",
    "  for i in range(maxdeg + 1):\n",
    "    ml_grid[i, :i+1] = lm[j:j+i+1]\n",
    "    j += i+1\n",
    "    #ml_grid[i, :maxdeg+1-i] = lm[j:j+maxdeg+1-i]\n",
    "    #j += maxdeg + 1 - i\n",
    "  ml_grid_transpose = ml_grid.transpose()\n",
    "  ml = []\n",
    "  for row in ml_grid_transpose:\n",
    "    ml += list(row[np.isnan(row) == False])\n",
    "  ml = np.array(ml)\n",
    "  return ml"
   ]
  },
  {
   "cell_type": "code",
   "execution_count": 4,
   "id": "a35bf2b1",
   "metadata": {},
   "outputs": [],
   "source": [
    "## Set up love number input\n",
    "\n",
    "def love_lm(num, group='m'):\n",
    "  \"\"\"\n",
    "  no dc shift also for gravity love number\n",
    "  \"\"\"\n",
    "  num = num[:maxdeg]\n",
    "  h = np.hstack(( 0, num.squeeze() ))\n",
    "  h_lm = [];\n",
    "  print =(group)\n",
    "  if group == 'l':\n",
    "    # This is the standard for Jerry's code\n",
    "    for l in range(maxdeg+1):\n",
    "      h_lm += ([h[l]] * (l + 1))\n",
    "  elif group == 'm':\n",
    "    # This works with the spherical harmonic library I am using here\n",
    "    for m in range(maxdeg+1):\n",
    "      h_lm += (list(h[m:]))\n",
    "    # Although an analagous expression to Jerry's produces a plot that is more\n",
    "    # like his...\n",
    "    #for m in range(maxdeg+1):\n",
    "    #  h_lm += ([h[m]] * m)\n",
    "  h_lm = np.array(h_lm)\n",
    "  return h_lm"
   ]
  },
  {
   "cell_type": "code",
   "execution_count": 5,
   "id": "974ef9f1",
   "metadata": {},
   "outputs": [],
   "source": [
    "def get_tlm(maxdeg,earth, group='l'):\n",
    "  T_lm = []\n",
    "  T = np.zeros(maxdeg+1)\n",
    "  const = 4*np.pi*earth.a**3/earth.M_e\n",
    "  if group == 'l':\n",
    "    # This is the standard for Jerry's code\n",
    "    for l in range(maxdeg+1):\n",
    "      T[l] = const / (2 * l + 1.)\n",
    "      T_lm += ([T[l]] * (l + 1)) # IMPORTANT -- must have one entry per SH order\n",
    "  elif group == 'm':\n",
    "    # This works with the spherical harmonic library I am using here, I think\n",
    "    for m in range(maxdeg):\n",
    "      T[m] = const / (2 * m)\n",
    "      T_lm += (list(T[:m+1])) # IMPORTANT\n",
    "  T_lm = np.array(T_lm)\n",
    "  return T_lm"
   ]
  },
  {
   "cell_type": "code",
   "execution_count": 6,
   "id": "6ffaeca1",
   "metadata": {},
   "outputs": [],
   "source": [
    "def sign_01(ingrid):\n",
    "  out = -0.5*np.sign(ingrid)+0.5\n",
    "  out = 0.5*np.sign(out-0.6)+0.5\n",
    "  return out"
   ]
  },
  {
   "cell_type": "code",
   "execution_count": 7,
   "id": "c786c0b8",
   "metadata": {},
   "outputs": [],
   "source": [
    "def calc_rot(L_in, _k, _k_tide, group='l'):\n",
    "\n",
    "  # extract degree 2:\n",
    "  if group == 'l':\n",
    "    L20 = L_in[3]\n",
    "    L21 = L_in[4] \n",
    "    L22 = L_in[5]\n",
    "    print(L22)\n",
    "  elif group == 'm':\n",
    "    print(\"WARN: hard-coded max l,m; will break!\")\n",
    "    L20 = L_in[2]\n",
    "    L21 = L_in[maxdeg+2]\n",
    "    L22 = L_in[2*maxdeg + 1]\n",
    "    print(L22)\n",
    "  k_L = _k[1] # This has 256 values\n",
    "  k_T = _k_tide[1] # This has 256 values\n",
    "\n",
    "  I13 = sqrt_32_15 * np.pi * a**4 * np.real(L21)\n",
    "  I23 = - sqrt_32_15 * np.pi * a**4 * np.imag(L21)\n",
    "\n",
    "  II = I13 + 1j * I23\n",
    "\n",
    "  # equation from Mitrovica and Wahr 2005\n",
    "\n",
    "  m0 = II/CminA * (1 + k_L) / ( 1 - (k_T/k_hydro) )\n",
    "\n",
    "  m1 = np.real(m0)\n",
    "  m2 = np.imag(m0)\n",
    "  m3 = 0\n",
    "\n",
    "  m = np.hstack((m1, m2, m3))\n",
    "\n",
    "  # calculate the perturbation to the rotational potential from Milne 1998\n",
    "\n",
    "  La00 = a**2 * omega**2/3 * (np.sum(m**2) + 2*m3)\n",
    "  La20 = a**2 * omega**2/(6*5**.5) * (m1**2 + m2**2 - 2*m3**2 - 4*m3)\n",
    "  La21 = a**2 * omega**2/30**.5 * (m1*(1+m3) - 1j*m2*(1+m3))\n",
    "  La22 = a**2 * omega**2/5**.5 * 24**.5 * ( (m2**2-m1**2) + 1j*2*m1*m2 )\n",
    "  La2m1 = -1 * np.conj(La21)\n",
    "  La2m2 = 1 * np.conj(La22)\n",
    "\n",
    "  La_out = np.zeros(L_ml.shape, dtype=np.complex)\n",
    "\n",
    "  if group == 'l':\n",
    "    # NOTE! WILL HAVE TO CHANGE THIS if l,m are switched\n",
    "    # This is written for ordering by l first, and then m (in inner loop)\n",
    "    La_out[:6] += np.hstack((La00, 0, 0, La20, La21, La22))\n",
    "  elif group == 'm':\n",
    "    La_out[0:0+1] += La00\n",
    "    La_out[2:2+1] += La20\n",
    "    La_out[maxdeg+2:maxdeg+2+1] = La21 #complex(La21)\n",
    "    La_out[2*maxdeg+1:2*maxdeg+1+1] += La22\n",
    "\n",
    "  return La_out"
   ]
  },
  {
   "cell_type": "markdown",
   "id": "f14df8d3",
   "metadata": {},
   "source": [
    "## Earth class"
   ]
  },
  {
   "cell_type": "code",
   "execution_count": 74,
   "id": "a4be864c",
   "metadata": {},
   "outputs": [],
   "source": [
    "class EARTH(object):\n",
    "    \"\"\"\n",
    "    A class defining several Earth parameters\n",
    "    \"\"\"\n",
    "    \n",
    "    def __init__(self):\n",
    "        \"\"\"\n",
    "        initialize the earth parameter in an object\n",
    "        \"\"\"\n",
    "        self.rho_ice = 916.7\n",
    "        self.rho_water = 1000.\n",
    "        self.rho_sed = 2300.\n",
    "        self.g = 9.80616\n",
    "        self.M_e = 5.9742E24 # Earth mass [kg]\n",
    "        # for calc_rot\n",
    "        self.omega = 7.292E-5 # Earth's angular velocity\n",
    "        self.k_hydro = 0.934 # degree-2 hydrostatic Love number\n",
    "        self.CminA = 2.6E35 # a, c = smallest and largest principal moments of the inertia tensor\n",
    "        self.sqrt_32_15 = (32/15.)**0.5\n",
    "        self.a = rsphere = 6.37122e6 # earth radius\n",
    "        \n",
    "    class GRID(object):\n",
    "        \"\"\"\n",
    "        A class defining several Earth parameters\n",
    "        \"\"\"\n",
    "        def __init__(self,maxdeg):\n",
    "            \"\"\"\n",
    "            Creating the grid over wich the earth is generated\n",
    "            \"\"\"\n",
    "            self.nlons = (maxdeg + 1 + iseven) * 2\n",
    "            self.nlats = (maxdeg + 1 + iseven)\n",
    "            intgrid=pysh.SHGrid.from_zeros(maxdeg, grid='GLQ', kind='real', sampling=2)\n",
    "            self.lats=intgrid.lats()\n",
    "            self.elons  =  intgrid.lons()\n",
    "            self.colats = 90 - self.lats\n",
    "            \n",
    "        def create_ICE(self,way):\n",
    "            return self.ICE(way,self)\n",
    "        \n",
    "        def create_SED(self):\n",
    "            return self.SED(self)\n",
    "        \n",
    "        def create_TOPO(self,way):\n",
    "            return self.TOPO(self,way)\n",
    "        \n",
    "        def grdtospec(self,grid):\n",
    "            gridint=pysh.SHGrid.from_array(grid,'GLQ')\n",
    "            grid2=gridint.expand()\n",
    "            return grid2.spectrum()\n",
    "            \n",
    "        class ICE(object):\n",
    "            \"\"\"\n",
    "            A class defining several Earth parameters\n",
    "            \"\"\"\n",
    "            def __init__(self,way,grid):\n",
    "                \"\"\"\n",
    "                Creating the grid over wich the earth is generated\n",
    "                \"\"\"\n",
    "                ice=io.loadmat(way)\n",
    "                f = interpolate.interp2d(ice['lon_WAIS'][0,:],ice['lat_WAIS'][:,0], ice['ice_Ant'])\n",
    "                self.ice_0 = f(grid.elons, grid.lats)\n",
    "\n",
    "                f = interpolate.interp2d(ice['lon_WAIS'][0,:],ice['lat_WAIS'][:,0], ice['ice_EAIS'])\n",
    "                self.ice_j = f(grid.elons, grid.lats)\n",
    "\n",
    "                self.del_ice = self.ice_j - self.ice_0\n",
    "    \n",
    "        class SED(object):\n",
    "            \"\"\"\n",
    "            A class defining several Earth parameters\n",
    "            \"\"\"\n",
    "            def __init__(self,grid):\n",
    "                self.del_sed=np.zeros((grid.nlons,grid.nlats))\n",
    "                \n",
    "        class TOPO(object):\n",
    "            \"\"\"\n",
    "            A class defining several Earth parameters\n",
    "            \"\"\"\n",
    "            def __init__(self,grid,way):\n",
    "                topo = io.loadmat(way)\n",
    "                topo_nlats, topo_nlons = topo['map_data'].shape\n",
    "                topo_colats = np.linspace(180./topo_nlats/2., 180 - 180./topo_nlats/2., topo_nlats)\n",
    "                topo_elons = np.linspace(360./topo_nlons/2., 360 - 360./topo_nlons/2., topo_nlons)\n",
    "                f = interpolate.interp2d(topo_elons, topo_colats, topo['map_data'])\n",
    "                self.topo0 = f(grid.elons, grid.colats)"
   ]
  },
  {
   "cell_type": "markdown",
   "id": "43e77d27",
   "metadata": {},
   "source": [
    "## Parameters & Inputs"
   ]
  },
  {
   "cell_type": "markdown",
   "id": "a234f5ca",
   "metadata": {},
   "source": [
    "### Specify the earth parameters"
   ]
  },
  {
   "cell_type": "code",
   "execution_count": 75,
   "id": "6e47bfdc",
   "metadata": {},
   "outputs": [],
   "source": [
    "# Specify maximum degree to which spherical transformations should be done\n",
    "# Optimized to work at degree (2**n - 1), where n is a positive integer\n",
    "maxdeg = 255 # N\n",
    "iseven = (maxdeg % 2 == 0)\n",
    "\n",
    "earth=EARTH()\n",
    "\n",
    "# grid info\n",
    "grid=earth.GRID(maxdeg)"
   ]
  },
  {
   "cell_type": "markdown",
   "id": "627520b1",
   "metadata": {},
   "source": [
    "setup up spherical harmonic instance, set lats/lons of grid\n",
    "\n",
    "See Mitrovica et al. (2005) and Milne and Mitrovica (1998)"
   ]
  },
  {
   "cell_type": "markdown",
   "id": "519acc78",
   "metadata": {},
   "source": [
    "### Define Ice sheet"
   ]
  },
  {
   "cell_type": "markdown",
   "id": "d8cfaaa7",
   "metadata": {},
   "source": [
    "interpolate ice masks on common grid\n",
    "\n",
    "Consider RectBivariateSpline"
   ]
  },
  {
   "cell_type": "code",
   "execution_count": 76,
   "id": "33c487fe",
   "metadata": {},
   "outputs": [
    {
     "name": "stdout",
     "output_type": "stream",
     "text": [
      "(256, 512)\n"
     ]
    }
   ],
   "source": [
    "ice=grid.create_ICE('WAIS')\n",
    "\n",
    "print(ice.del_ice.shape)"
   ]
  },
  {
   "cell_type": "markdown",
   "id": "8fcab0da",
   "metadata": {},
   "source": [
    "### Define dynamic topography"
   ]
  },
  {
   "cell_type": "code",
   "execution_count": 77,
   "id": "88f98b96",
   "metadata": {},
   "outputs": [],
   "source": [
    "#peut être à virer ? \n",
    "del_DT = np.zeros(ice.del_ice.shape)"
   ]
  },
  {
   "cell_type": "markdown",
   "id": "aaf36bee",
   "metadata": {},
   "source": [
    "### Define Sediment"
   ]
  },
  {
   "cell_type": "code",
   "execution_count": 78,
   "id": "33f7ade6",
   "metadata": {},
   "outputs": [],
   "source": [
    "sed = grid.create_SED()"
   ]
  },
  {
   "cell_type": "markdown",
   "id": "7d8e7fc6",
   "metadata": {},
   "source": [
    "### Define Topography"
   ]
  },
  {
   "cell_type": "markdown",
   "id": "b46b7928",
   "metadata": {},
   "source": [
    "load preloaded topo (including ice) as topo_orig, lon_topo, lat_topo"
   ]
  },
  {
   "cell_type": "code",
   "execution_count": 79,
   "id": "088d8155",
   "metadata": {},
   "outputs": [],
   "source": [
    "topo = grid.create_TOPO('gebco_08_15am')"
   ]
  },
  {
   "cell_type": "markdown",
   "id": "8dfec214",
   "metadata": {},
   "source": [
    "interpolate topography grid onto Gauss Legendre Grid"
   ]
  },
  {
   "cell_type": "markdown",
   "id": "678bc0e6",
   "metadata": {},
   "source": [
    "### Define love numbers"
   ]
  },
  {
   "cell_type": "markdown",
   "id": "a83a5467",
   "metadata": {},
   "source": [
    "prepare love numbers in suitable format and calculate T_lm and E_lm to calculate the fluid case, switch h_el to h_fl, k_el to k_fl and same for tidal love numbers\n",
    "\n",
    "1 value per degree -- but not per degree and order!\n",
    "\n",
    "k is gravity field deformation Love number (G)\n",
    "\n",
    "h is the solid Earth deformation Love number (R)"
   ]
  },
  {
   "cell_type": "code",
   "execution_count": 80,
   "id": "7f421a82",
   "metadata": {},
   "outputs": [],
   "source": [
    "love = io.loadmat('SavedLN/prem.l90.VM2_512')\n",
    "h_lm = love_lm(love['h_el'])\n",
    "k_lm = love_lm(love['k_el'])\n",
    "h_lm_tide = love_lm(love['h_el_tide'])\n",
    "k_lm_tide = love_lm(love['k_el_tide'])\n",
    "\n",
    "E_ml = 1 + k_lm - h_lm\n",
    "T_lm = get_tlm(maxdeg,earth)\n",
    "T_ml = reorder_l_to_m_primary(T_lm)\n",
    "E_ml_T = 1 + k_lm_tide - h_lm_tide"
   ]
  },
  {
   "cell_type": "markdown",
   "id": "1c5628f1",
   "metadata": {},
   "source": [
    "## Solve sea level equation"
   ]
  },
  {
   "cell_type": "markdown",
   "id": "75606583",
   "metadata": {},
   "source": [
    "(after Kendall 2005, Dalca 2013 & Austermann et al. 2015)"
   ]
  },
  {
   "cell_type": "markdown",
   "id": "28f34547",
   "metadata": {},
   "source": [
    "### Loop criterion"
   ]
  },
  {
   "cell_type": "code",
   "execution_count": 60,
   "id": "76913941",
   "metadata": {},
   "outputs": [],
   "source": [
    "k_max = 10   # maximum number of iterations\n",
    "epsilon = 10**-4 # convergence criterion"
   ]
  },
  {
   "cell_type": "markdown",
   "id": "69d178cb",
   "metadata": {},
   "source": [
    "### Initialize the different parameters"
   ]
  },
  {
   "cell_type": "markdown",
   "id": "1ffd6e77",
   "metadata": {},
   "source": [
    "Setup topography and ocean function at present day"
   ]
  },
  {
   "cell_type": "code",
   "execution_count": 62,
   "id": "dae047a9",
   "metadata": {},
   "outputs": [],
   "source": [
    "topo_0 = topo0.copy(); # already includes ice and dynamic topography\n",
    "oc_0 = sign_01(topo_0)"
   ]
  },
  {
   "cell_type": "markdown",
   "id": "6ad615c4",
   "metadata": {},
   "source": [
    "Set up topography and ocean function after the ice change"
   ]
  },
  {
   "cell_type": "code",
   "execution_count": 65,
   "id": "d5f94c46",
   "metadata": {},
   "outputs": [],
   "source": [
    "topo_j = topo_0 + del_ice; # del_ice is negative -> subtract ice that is melted\n",
    "oc_j = sign_01(topo_j)"
   ]
  },
  {
   "cell_type": "markdown",
   "id": "d6c49fae",
   "metadata": {},
   "source": [
    "calculate change in sediments and decompose into spherical harmonics both sediment and ocean function"
   ]
  },
  {
   "cell_type": "code",
   "execution_count": 66,
   "id": "02fd0e7a",
   "metadata": {},
   "outputs": [],
   "source": [
    "Sed_ml = pysh.SHGrid.from_array(del_sed).expand().to_array()\n",
    "oc0_ml = pysh.SHGrid.from_array(oc_0).expand().to_array()"
   ]
  },
  {
   "cell_type": "markdown",
   "id": "40161e14",
   "metadata": {
    "heading_collapsed": true
   },
   "source": [
    "### Define initial values so we don't exit while loop"
   ]
  },
  {
   "cell_type": "code",
   "execution_count": 67,
   "id": "0e1c8240",
   "metadata": {
    "hidden": true
   },
   "outputs": [],
   "source": [
    "k = 0\n",
    "chi = epsilon * 2\n",
    "start_time = time.time()\n",
    "# Iterations k\n",
    "# Iteration criterion epsilon"
   ]
  },
  {
   "cell_type": "markdown",
   "id": "8f04b38f",
   "metadata": {
    "heading_collapsed": true
   },
   "source": [
    "### Main loop"
   ]
  },
  {
   "cell_type": "code",
   "execution_count": 68,
   "id": "46f27dad",
   "metadata": {
    "hidden": true
   },
   "outputs": [
    {
     "name": "stdout",
     "output_type": "stream",
     "text": [
      "WARN: hard-coded max l,m; will break!\n"
     ]
    },
    {
     "name": "stderr",
     "output_type": "stream",
     "text": [
      "C:\\Program Files\\ArcGIS\\Pro\\bin\\Python\\envs\\arcgispro-py3\\lib\\site-packages\\ipykernel_launcher.py:23: RuntimeWarning: invalid value encountered in true_divide\n"
     ]
    },
    {
     "ename": "IndexError",
     "evalue": "index 2 is out of bounds for axis 0 with size 2",
     "output_type": "error",
     "traceback": [
      "\u001b[1;31m---------------------------------------------------------------------------\u001b[0m",
      "\u001b[1;31mIndexError\u001b[0m                                Traceback (most recent call last)",
      "\u001b[1;32m<ipython-input-68-d458cc3bf8ce>\u001b[0m in \u001b[0;36m<module>\u001b[1;34m\u001b[0m\n\u001b[0;32m     29\u001b[0m \u001b[1;33m\u001b[0m\u001b[0m\n\u001b[0;32m     30\u001b[0m   \u001b[1;31m# calculate contribution from rotation\u001b[0m\u001b[1;33m\u001b[0m\u001b[1;33m\u001b[0m\u001b[1;33m\u001b[0m\u001b[0m\n\u001b[1;32m---> 31\u001b[1;33m   \u001b[0mLa_ml\u001b[0m \u001b[1;33m=\u001b[0m \u001b[0mcalc_rot\u001b[0m\u001b[1;33m(\u001b[0m\u001b[0mL_ml\u001b[0m\u001b[1;33m,\u001b[0m \u001b[0mlove\u001b[0m\u001b[1;33m[\u001b[0m\u001b[1;34m'k_el'\u001b[0m\u001b[1;33m]\u001b[0m\u001b[1;33m,\u001b[0m \u001b[0mlove\u001b[0m\u001b[1;33m[\u001b[0m\u001b[1;34m'k_el_tide'\u001b[0m\u001b[1;33m]\u001b[0m\u001b[1;33m,\u001b[0m \u001b[1;34m'm'\u001b[0m\u001b[1;33m)\u001b[0m\u001b[1;33m\u001b[0m\u001b[1;33m\u001b[0m\u001b[0m\n\u001b[0m\u001b[0;32m     32\u001b[0m \u001b[1;33m\u001b[0m\u001b[0m\n\u001b[0;32m     33\u001b[0m   \u001b[1;31m# calculate sea level perturbation\u001b[0m\u001b[1;33m\u001b[0m\u001b[1;33m\u001b[0m\u001b[1;33m\u001b[0m\u001b[0m\n",
      "\u001b[1;32m<ipython-input-50-86bada0148a8>\u001b[0m in \u001b[0;36mcalc_rot\u001b[1;34m(L_in, _k, _k_tide, group)\u001b[0m\n\u001b[0;32m      9\u001b[0m   \u001b[1;32melif\u001b[0m \u001b[0mgroup\u001b[0m \u001b[1;33m==\u001b[0m \u001b[1;34m'm'\u001b[0m\u001b[1;33m:\u001b[0m\u001b[1;33m\u001b[0m\u001b[1;33m\u001b[0m\u001b[0m\n\u001b[0;32m     10\u001b[0m     \u001b[0mprint\u001b[0m\u001b[1;33m(\u001b[0m\u001b[1;34m\"WARN: hard-coded max l,m; will break!\"\u001b[0m\u001b[1;33m)\u001b[0m\u001b[1;33m\u001b[0m\u001b[1;33m\u001b[0m\u001b[0m\n\u001b[1;32m---> 11\u001b[1;33m     \u001b[0mL20\u001b[0m \u001b[1;33m=\u001b[0m \u001b[0mL_in\u001b[0m\u001b[1;33m[\u001b[0m\u001b[1;36m2\u001b[0m\u001b[1;33m]\u001b[0m\u001b[1;33m\u001b[0m\u001b[1;33m\u001b[0m\u001b[0m\n\u001b[0m\u001b[0;32m     12\u001b[0m     \u001b[0mL21\u001b[0m \u001b[1;33m=\u001b[0m \u001b[0mL_in\u001b[0m\u001b[1;33m[\u001b[0m\u001b[0mmaxdeg\u001b[0m\u001b[1;33m+\u001b[0m\u001b[1;36m2\u001b[0m\u001b[1;33m]\u001b[0m\u001b[1;33m\u001b[0m\u001b[1;33m\u001b[0m\u001b[0m\n\u001b[0;32m     13\u001b[0m     \u001b[0mL22\u001b[0m \u001b[1;33m=\u001b[0m \u001b[0mL_in\u001b[0m\u001b[1;33m[\u001b[0m\u001b[1;36m2\u001b[0m\u001b[1;33m*\u001b[0m\u001b[0mmaxdeg\u001b[0m \u001b[1;33m+\u001b[0m \u001b[1;36m1\u001b[0m\u001b[1;33m]\u001b[0m\u001b[1;33m\u001b[0m\u001b[1;33m\u001b[0m\u001b[0m\n",
      "\u001b[1;31mIndexError\u001b[0m: index 2 is out of bounds for axis 0 with size 2"
     ]
    }
   ],
   "source": [
    "while (k < k_max) and (chi >= epsilon):\n",
    "  # expand ocean function into spherical harmonics in m-first ordering\n",
    "  ocj_ml = pysh.SHGrid.from_array(oc_j).expand().to_array()\n",
    "  # CHECK ICE MODEL \n",
    "  # check ice model for floating ice\n",
    "  check1 = sign_01(-topo_j + ice_j)\n",
    "  check2 = sign_01(+topo_j - ice_j) * \\\n",
    "    (sign_01(-ice_j*rho_ice - (topo_j - ice_j)*rho_water))\n",
    "  \n",
    "  # Applying the floating ice correction\n",
    "  del_ice_corrected = ice_j - ice_0\n",
    "  deli_ml = pysh.SHGrid.from_array(del_ice_corrected).expand().to_array()\n",
    "  \n",
    "  # calculate topography correction, shoreline migration\n",
    "  TO = topo_0 * (oc_j-oc_0)\n",
    "  # expand TO function into spherical harmonics\n",
    "  TO_ml = pysh.SHGrid.from_array(TO).expand().to_array()\n",
    "  \n",
    "  # set up initial guess for sea level change\n",
    "  if k == 0:\n",
    "    # initial guess of sea level change is just to distribute the ice over the oceans uniformally\n",
    "    # (remember, harmonic (0,0) is the mean)\n",
    "    delS_ml = ocj_ml/ocj_ml[0]*(-rho_ice/rho_water*deli_ml[0] +TO_ml[0])\n",
    "    # convert into spherical harmonics\n",
    "      \n",
    "  # calculate loading term\n",
    "  # ice, water, and sediment\n",
    "  L_ml = rho_ice*deli_ml + rho_water*delS_ml + rho_sed*Sed_ml\n",
    "\n",
    "  # calculate contribution from rotation \n",
    "  La_ml = calc_rot(L_ml, love['k_el'], love['k_el_tide'], 'm')\n",
    "\n",
    "  # calculate sea level perturbation\n",
    "  # add ice and sea level and multiply with love numbers\n",
    "  # (note: this is curly L from Kendall et al. (2005), and has nothing to \n",
    "  #  do with the mathematical curl)\n",
    "  delSLcurl_ml_fl = E_ml * T_ml * (rho_ice*deli_ml + rho_water*delS_ml \\\n",
    "                                   + rho_sed*Sed_ml) + 1./g*E_ml_T * La_ml\n",
    "\n",
    "  # convert to spherical harmonics and subtract terms that are part\n",
    "  # of the topography to get the 'pure' sea level change\n",
    "  delSLcurl_fl = sh.spectogrd( delSLcurl_ml_fl, norm='unity')\n",
    "  delSLcurl = delSLcurl_fl - del_ice_corrected - del_DT - del_sed\n",
    "\n",
    "\n",
    "  # compute and decompose RO\n",
    "  RO = delSLcurl * oc_j\n",
    "  RO_ml = sh.grdtospec(RO, norm='unity')\n",
    "\n",
    "  # calculate eustatic sea level perturbation (delta Phi / g)\n",
    "  delPhi_g = 1/ocj_ml[0] * (- rho_ice/rho_water*deli_ml[0] \\\n",
    "      - RO_ml[0] + TO_ml[0])\n",
    "\n",
    "  # calculate overall perturbation of sea level over oceans (spatially varying field and constant offset)\n",
    "  delSL = delSLcurl + delPhi_g\n",
    "\n",
    "  # update topography and ocean function\n",
    "  topo_j = - delSL + topo_0\n",
    "  oc_j = sign_01(topo_j)\n",
    "\n",
    "  # calculate change in ocean height and decompose\n",
    "  delS_new = np.real(delSL) * np.real(oc_j) -  topo_0 * (np.real(oc_j)-oc_0)\n",
    "  delS_ml_new = sh.grdtospec(delS_new, norm='unity')\n",
    "\n",
    "  # calculate convergence criterion chi\n",
    "  chi = np.abs( (np.sum(np.abs(delS_ml_new)) - np.sum(np.abs(delS_ml))) \\\n",
    "        / np.sum(np.abs(delS_ml)) )\n",
    "        \n",
    "  # update sea surface height\n",
    "  delS_ml = delS_ml_new.copy() # check if needed!!!!!!!\n",
    "        \n",
    "  k += 1\n",
    "\n"
   ]
  },
  {
   "cell_type": "markdown",
   "id": "f22faa07",
   "metadata": {
    "heading_collapsed": true
   },
   "source": [
    "### Convergence criterion"
   ]
  },
  {
   "cell_type": "code",
   "execution_count": 69,
   "id": "c6366076",
   "metadata": {
    "hidden": true
   },
   "outputs": [
    {
     "name": "stdout",
     "output_type": "stream",
     "text": [
      "Did not yet converge.\n",
      "Finished iteration 0 ; Chi was 0.0002\n",
      "Time elapsed in k loop 275.43988943099976\n"
     ]
    },
    {
     "ename": "NameError",
     "evalue": "name 'delSL' is not defined",
     "output_type": "error",
     "traceback": [
      "\u001b[1;31m---------------------------------------------------------------------------\u001b[0m",
      "\u001b[1;31mNameError\u001b[0m                                 Traceback (most recent call last)",
      "\u001b[1;32m<ipython-input-69-abdc65ece0f5>\u001b[0m in \u001b[0;36m<module>\u001b[1;34m\u001b[0m\n\u001b[0;32m     11\u001b[0m \u001b[1;31m# one on average, when averaged over the final ocean basin).\u001b[0m\u001b[1;33m\u001b[0m\u001b[1;33m\u001b[0m\u001b[1;33m\u001b[0m\u001b[0m\n\u001b[0;32m     12\u001b[0m \u001b[1;31m# calculate change in sea level over final ocean basin\u001b[0m\u001b[1;33m\u001b[0m\u001b[1;33m\u001b[0m\u001b[1;33m\u001b[0m\u001b[0m\n\u001b[1;32m---> 13\u001b[1;33m \u001b[0mdel_scaling\u001b[0m \u001b[1;33m=\u001b[0m \u001b[1;33m(\u001b[0m\u001b[0mdelSL\u001b[0m \u001b[1;33m+\u001b[0m \u001b[0mdel_ice_corrected\u001b[0m\u001b[1;33m)\u001b[0m \u001b[1;33m*\u001b[0m \u001b[0moc_j\u001b[0m\u001b[1;33m\u001b[0m\u001b[1;33m\u001b[0m\u001b[0m\n\u001b[0m\u001b[0;32m     14\u001b[0m \u001b[1;31m# get the average of that when spreading the water over the whole globe\u001b[0m\u001b[1;33m\u001b[0m\u001b[1;33m\u001b[0m\u001b[1;33m\u001b[0m\u001b[0m\n\u001b[0;32m     15\u001b[0m \u001b[0msca\u001b[0m \u001b[1;33m=\u001b[0m \u001b[0msh\u001b[0m\u001b[1;33m.\u001b[0m\u001b[0mgrdtospec\u001b[0m\u001b[1;33m(\u001b[0m\u001b[0mdel_scaling\u001b[0m\u001b[1;33m,\u001b[0m \u001b[0mnorm\u001b[0m\u001b[1;33m=\u001b[0m\u001b[1;34m'unity'\u001b[0m\u001b[1;33m)\u001b[0m\u001b[1;33m\u001b[0m\u001b[1;33m\u001b[0m\u001b[0m\n",
      "\u001b[1;31mNameError\u001b[0m: name 'delSL' is not defined"
     ]
    }
   ],
   "source": [
    "if chi < epsilon:\n",
    "  print('Converged after iteration', k, 'Chi was', chi)\n",
    "else:\n",
    "  print ('Did not yet converge.')\n",
    "  print ('Finished iteration', k, '; Chi was', chi)\n",
    "\n",
    "end_time = time.time()\n",
    "\n",
    "print (\"Time elapsed in k loop\", end_time - start_time)\n",
    "# calculate the scaling to normalize the fingerprint (it's normalized to be\n",
    "# one on average, when averaged over the final ocean basin). \n",
    "# calculate change in sea level over final ocean basin\n",
    "del_scaling = (delSL + del_ice_corrected) * oc_j\n",
    "# get the average of that when spreading the water over the whole globe\n",
    "sca = sh.grdtospec(del_scaling, norm='unity')\n",
    "# get the average of that when spreading the water only over the oceans.\n",
    "scaling_fact = sca[0] / ocj_ml[0]"
   ]
  },
  {
   "cell_type": "markdown",
   "id": "1af26757",
   "metadata": {
    "heading_collapsed": true
   },
   "source": [
    "## Plot Result"
   ]
  },
  {
   "cell_type": "code",
   "execution_count": null,
   "id": "5bac23ce",
   "metadata": {
    "hidden": true
   },
   "outputs": [],
   "source": [
    "## Plot results\n",
    "\n",
    "# We only want the sea level change cause by melted ice, so subtract\n",
    "# del_ice\n",
    "SL_change_rot = delSL + del_ice_corrected\n",
    "# normalize it by the scaling factor\n",
    "plotSL = SL_change_rot/scaling_fact\n",
    "\n",
    "# plot\n",
    "plt.figure\n",
    "plt.imshow(np.real(plotSL))\n",
    "plt.colorbar()\n",
    "plt.savefig('fig.eps')\n",
    "plt.show()"
   ]
  }
 ],
 "metadata": {
  "kernelspec": {
   "display_name": "Python 3",
   "language": "python",
   "name": "python3"
  },
  "language_info": {
   "codemirror_mode": {
    "name": "ipython",
    "version": 3
   },
   "file_extension": ".py",
   "mimetype": "text/x-python",
   "name": "python",
   "nbconvert_exporter": "python",
   "pygments_lexer": "ipython3",
   "version": "3.7.11"
  }
 },
 "nbformat": 4,
 "nbformat_minor": 5
}
