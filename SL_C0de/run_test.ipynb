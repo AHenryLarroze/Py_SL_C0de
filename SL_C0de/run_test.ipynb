{
 "cells": [
  {
   "cell_type": "code",
   "execution_count": null,
   "metadata": {},
   "outputs": [],
   "source": [
    "import importlib\n",
    "importlib.reload(SL_model)"
   ]
  },
  {
   "cell_type": "code",
   "execution_count": null,
   "metadata": {},
   "outputs": [],
   "source": [
    "import SL_model\n",
    "model_p=SL_model.SL_model(maxdeg=16,nb_workers=32)\n",
    "model_p.run()\n",
    "\n",
    "model_p.init_resolution_plot(256)\n",
    "model_p.plot_RSL_3D(0.5)"
   ]
  }
 ],
 "metadata": {
  "kernelspec": {
   "display_name": "Python 3.10.5 ('SL_C0de')",
   "language": "python",
   "name": "python3"
  },
  "language_info": {
   "codemirror_mode": {
    "name": "ipython",
    "version": 3
   },
   "file_extension": ".py",
   "mimetype": "text/x-python",
   "name": "python",
   "nbconvert_exporter": "python",
   "pygments_lexer": "ipython3",
   "version": "3.10.5"
  },
  "orig_nbformat": 4,
  "vscode": {
   "interpreter": {
    "hash": "f954f324f1fd0a5f0c100f80763cbff21d1825779744633bc71c94ab1f555431"
   }
  }
 },
 "nbformat": 4,
 "nbformat_minor": 2
}
