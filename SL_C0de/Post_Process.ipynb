{
 "cells": [
  {
   "cell_type": "markdown",
   "metadata": {},
   "source": [
    "# Initialisation"
   ]
  },
  {
   "cell_type": "code",
   "execution_count": 1,
   "metadata": {},
   "outputs": [],
   "source": [
    "from SL_model import SL_model\n",
    "from spharm import legendre, GaussQuad\n",
    "from time import time\n",
    "import numpy as np\n",
    "if __name__ == '__main__':\n",
    "    model=SL_model(maxdeg=512,nb_workers=26,topo_it_max=50,k_max=50) # Generate the model base\n",
    "    model.set_from_file('C:/Users/ahenry01/Desktop/Python_code/SL_C0de_output/Article Irrawaddy/vl/vl.VM5a.l50.um21.lm22.699result_27.09.2022_17.12.27')\n",
    "    model.data_way='C:/Users/ahenry01/Desktop/Python_code/SL_C0de_data/'\n",
    "    model.love_way=model.data_way+'variable_litosphere/VM5a.l50.um21.lm22.699'\n",
    "    model.ice_way=model.data_way+'ice6G_data.mat'\n",
    "    model.sed_way=model.data_way+'Irrawady_sedimentationgrid.mat'\n",
    "    model.topo_way=model.data_way+'topo_SL.mat'\n",
    "    model.P_lm=legendre(model.maxdeg,model.pool) #Calculate the Legendre associated functions for the Gaussian grid\n",
    "    model.x, model.w= GaussQuad(model.maxdeg) # calculate the Gaussian grid parameters\n",
    "\n",
    "    model.create_GRID() #create the grid framework\n",
    "\n",
    "    model.create_parameters() #Create all grid parameters\n",
    "\n",
    "\n",
    "    model.ice.quick_load(model.grid,model.pool,model.ice_way) #set the ice model\n",
    "    model.sed.load(model,model.sed_way) # set the sedimentation model\n",
    "    model.topo.load(model,model.topo_way) # set the topography model, this function need the sediment and ice model ! \n",
    "    #Disk_load=model.grid.disk(model,0,180,1,100)\n",
    "    # we need to calculate the ocean function after setting the topography due to it's dependencies\n",
    "    model.create_ocean(model.topo.topo_pres) # create the ocean function (see theoria (TABOO), spada et al., 2003) from the actual topography.\n",
    "    model.sed.rho=model.data['rho_sed']\n",
    "    model.oc.rho=model.data['rho_sea']\n",
    "    model.ice.rho=model.data['rho_ice']\n",
    "    model.grid.time_step=model.time_step\n",
    "    model.ice.ice_corrected=model.data['ice_corrected']\n",
    "    model.SL.delS.saved=model.data['delS']\n",
    "    model.SL.sdelS.saved=model.data['sdelS']\n",
    "    model.topo.topo=model.data['topo']"
   ]
  },
  {
   "cell_type": "markdown",
   "metadata": {},
   "source": [
    "# Calcul de la déformation du géoïde et de la terre"
   ]
  },
  {
   "cell_type": "markdown",
   "metadata": {},
   "source": [
    "## Ice Load"
   ]
  },
  {
   "cell_type": "code",
   "execution_count": 2,
   "metadata": {},
   "outputs": [],
   "source": [
    "delL=np.zeros((model.time_step_number,int((model.maxdeg+1)*(model.maxdeg+2)/2)))+0j\n",
    "sdelL=np.zeros((model.time_step_number,int((model.maxdeg+1)*(model.maxdeg+2)/2)))+0j\n",
    "delL_prev=delL[0,:]\n",
    "if not('beta_R_l' in model.love.__dict__):\n",
    "    model.love.calc_beta_R(model)\n",
    "if not('beta_G_l' in model.love.__dict__):\n",
    "    model.love.calc_beta_G(model)\n",
    "model.delR_e_i=np.zeros((model.time_step_number,int((model.maxdeg+1)*(model.maxdeg+2)/2)))+1j\n",
    "model.delR_v_i=np.zeros((model.time_step_number,int((model.maxdeg+1)*(model.maxdeg+2)/2)))+1j\n",
    "model.delG_e_i=np.zeros((model.time_step_number,int((model.maxdeg+1)*(model.maxdeg+2)/2)))+1j\n",
    "model.delG_v_i=np.zeros((model.time_step_number,int((model.maxdeg+1)*(model.maxdeg+2)/2)))+1j\n",
    "for t_it in range(1,model.time_step_number):\n",
    "    delL[t_it,:]=model.ice.calc_del_ice(t_it).grdtocoeff(model).coeff*model.ice.rho\n",
    "    sdelL[t_it-1,:]=delL[t_it,:]-delL[t_it-1,:]\n",
    "    model.delR_e_i[t_it,:]=model.love.T.coeff*model.love.h.coeff*delL[t_it,:]\n",
    "    model.load.calc_viscuous_load(model,t_it,sdelL,model.love.beta_R_l)\n",
    "    model.delR_v_i[t_it,:]=model.love.T.coeff*model.load.V_lm.coeff\n",
    "    model.delG_e_i[t_it,:]=model.love.T.coeff*model.love.k.coeff*delL[t_it,:]\n",
    "    model.load.calc_viscuous_load(model,t_it,sdelL,model.love.beta_G_l)\n",
    "    model.delG_v_i[t_it,:]=model.love.T.coeff*model.load.V_lm.coeff"
   ]
  },
  {
   "cell_type": "markdown",
   "metadata": {},
   "source": [
    "## Sediment load"
   ]
  },
  {
   "cell_type": "code",
   "execution_count": 3,
   "metadata": {},
   "outputs": [],
   "source": [
    "delL=np.zeros((model.time_step_number,int((model.maxdeg+1)*(model.maxdeg+2)/2)))+0j\n",
    "sdelL=np.zeros((model.time_step_number,int((model.maxdeg+1)*(model.maxdeg+2)/2)))+0j\n",
    "delL_prev=delL[0,:]\n",
    "if not('beta_R_l' in model.love.__dict__):\n",
    "    model.love.calc_beta_R(model)\n",
    "if not('beta_G_l' in model.love.__dict__):\n",
    "    model.love.calc_beta_G(model)\n",
    "model.delR_e_s=np.zeros((model.time_step_number,int((model.maxdeg+1)*(model.maxdeg+2)/2)))+1j\n",
    "model.delR_v_s=np.zeros((model.time_step_number,int((model.maxdeg+1)*(model.maxdeg+2)/2)))+1j\n",
    "model.delG_e_s=np.zeros((model.time_step_number,int((model.maxdeg+1)*(model.maxdeg+2)/2)))+1j\n",
    "model.delG_v_s=np.zeros((model.time_step_number,int((model.maxdeg+1)*(model.maxdeg+2)/2)))+1j\n",
    "for t_it in range(1,model.time_step_number):\n",
    "    delL[t_it,:]=model.sed.calc_del_sed(t_it).grdtocoeff(model).coeff*model.sed.rho\n",
    "    sdelL[t_it-1,:]=delL[t_it,:]-delL[t_it-1,:]\n",
    "    model.delR_e_s[t_it,:]=model.love.T.coeff*model.love.h.coeff*delL[t_it,:]\n",
    "    model.load.calc_viscuous_load(model,t_it,sdelL,model.love.beta_R_l)\n",
    "    model.delR_v_s[t_it,:]=model.love.T.coeff*model.load.V_lm.coeff\n",
    "    model.delG_e_s[t_it,:]=model.love.T.coeff*model.love.k.coeff*delL[t_it,:]\n",
    "    model.load.calc_viscuous_load(model,t_it,sdelL,model.love.beta_G_l)\n",
    "    model.delG_v_s[t_it,:]=model.love.T.coeff*model.load.V_lm.coeff"
   ]
  },
  {
   "cell_type": "markdown",
   "metadata": {},
   "source": [
    "## Ocean load"
   ]
  },
  {
   "cell_type": "code",
   "execution_count": 4,
   "metadata": {},
   "outputs": [
    {
     "name": "stdout",
     "output_type": "stream",
     "text": [
      "1\n",
      "2\n",
      "3\n",
      "4\n",
      "5\n",
      "6\n",
      "7\n",
      "8\n",
      "9\n",
      "10\n",
      "11\n",
      "12\n",
      "13\n",
      "14\n",
      "15\n",
      "16\n",
      "17\n",
      "18\n",
      "19\n",
      "20\n",
      "21\n",
      "22\n",
      "23\n",
      "24\n",
      "25\n",
      "26\n",
      "27\n",
      "28\n",
      "29\n",
      "30\n",
      "31\n",
      "32\n",
      "33\n",
      "34\n",
      "35\n",
      "36\n",
      "37\n",
      "38\n",
      "39\n",
      "40\n",
      "41\n",
      "42\n",
      "43\n",
      "44\n",
      "45\n",
      "46\n"
     ]
    }
   ],
   "source": [
    "delL=np.zeros((model.time_step_number,int((model.maxdeg+1)*(model.maxdeg+2)/2)))+0j\n",
    "sdelL=np.zeros((model.time_step_number,int((model.maxdeg+1)*(model.maxdeg+2)/2)))+0j\n",
    "delL_prev=delL[0,:]\n",
    "if not('beta_R_l' in model.love.__dict__):\n",
    "    model.love.calc_beta_R(model)\n",
    "if not('beta_G_l' in model.love.__dict__):\n",
    "    model.love.calc_beta_G(model)\n",
    "model.delR_e_o=np.zeros((model.time_step_number,int((model.maxdeg+1)*(model.maxdeg+2)/2)))+1j\n",
    "model.delR_v_o=np.zeros((model.time_step_number,int((model.maxdeg+1)*(model.maxdeg+2)/2)))+1j\n",
    "model.delG_e_o=np.zeros((model.time_step_number,int((model.maxdeg+1)*(model.maxdeg+2)/2)))+1j\n",
    "model.delG_v_o=np.zeros((model.time_step_number,int((model.maxdeg+1)*(model.maxdeg+2)/2)))+1j\n",
    "for t_it in range(1,model.time_step_number):\n",
    "    print(t_it)\n",
    "    delL[t_it,:]=model.SL.delS.saved[t_it,:]*model.oc.rho\n",
    "    sdelL[t_it-1,:]=delL[t_it,:]-delL[t_it-1,:]\n",
    "    model.delR_e_o[t_it,:]=model.love.T.coeff*model.love.h.coeff*delL[t_it,:]\n",
    "    model.load.calc_viscuous_load(model,t_it,sdelL,model.love.beta_R_l)\n",
    "    model.delR_v_o[t_it,:]=model.love.T.coeff*model.load.V_lm.coeff\n",
    "    model.delG_e_o[t_it,:]=model.love.T.coeff*model.love.k.coeff*delL[t_it,:]\n",
    "    model.load.calc_viscuous_load(model,t_it,sdelL,model.love.beta_G_l)\n",
    "    model.delG_v_o[t_it,:]=model.love.T.coeff*model.load.V_lm.coeff"
   ]
  },
  {
   "cell_type": "markdown",
   "metadata": {},
   "source": [
    "# Relative Sea Level deformation"
   ]
  },
  {
   "cell_type": "code",
   "execution_count": 5,
   "metadata": {},
   "outputs": [
    {
     "name": "stdout",
     "output_type": "stream",
     "text": [
      "25.0\n",
      "5.012391600819793\n",
      "24.0\n",
      "9.041156919853089\n",
      "23.0\n",
      "11.427756054519962\n",
      "22.0\n",
      "13.759428240008454\n",
      "21.0\n",
      "15.263470483803346\n",
      "20.5\n",
      "16.166703794132395\n",
      "20.0\n",
      "17.027950534207317\n",
      "19.5\n",
      "18.00395174936999\n",
      "19.0\n",
      "18.888089972543735\n",
      "18.5\n",
      "19.93570375533739\n",
      "18.0\n",
      "21.45296538633115\n",
      "17.5\n",
      "23.191432619111488\n",
      "17.0\n",
      "24.80310325667243\n",
      "16.5\n",
      "26.56741140883974\n",
      "16.0\n",
      "28.62433448043218\n",
      "15.5\n",
      "32.64503823586035\n",
      "15.0\n",
      "36.10033409238351\n",
      "14.5\n",
      "39.973572488803356\n",
      "14.0\n",
      "61.59915147707139\n",
      "13.5\n",
      "68.06439140804295\n",
      "13.0\n",
      "72.47850074596707\n",
      "12.5\n",
      "78.38597677347667\n",
      "12.0\n",
      "82.48779893062391\n",
      "11.5\n",
      "87.53461226385954\n",
      "11.0\n",
      "97.52936641565357\n",
      "10.5\n",
      "102.37010050250058\n",
      "10.0\n",
      "107.32941608718076\n",
      "9.5\n",
      "111.93130177408888\n",
      "9.0\n",
      "115.53095619316412\n",
      "8.5\n",
      "119.46168454183416\n",
      "8.0\n",
      "122.4909048633507\n",
      "7.5\n",
      "125.12153734251028\n",
      "7.0\n",
      "126.52273415327568\n",
      "6.5\n",
      "127.40450864655597\n",
      "6.0\n",
      "127.72889719981846\n",
      "5.5\n",
      "127.79615480617383\n",
      "5.0\n",
      "127.87369879976498\n",
      "4.5\n",
      "127.94510388629996\n",
      "4.0\n",
      "128.0961888991766\n",
      "3.5\n",
      "128.116680858098\n",
      "3.0\n",
      "128.1322669026013\n",
      "2.5\n",
      "128.1920369239006\n",
      "2.0\n",
      "128.16798264979633\n",
      "1.5\n",
      "128.1755385512946\n",
      "1.0\n",
      "128.16871194811094\n",
      "0.5\n",
      "128.17562260484152\n"
     ]
    }
   ],
   "source": [
    "from spharm import sphericalobject\n",
    "model.delSL=np.zeros((model.time_step_number,int((model.maxdeg+1)*(model.maxdeg+2)/2)))+0j\n",
    "C=model.delG_v_o+model.delG_v_i+model.delG_v_s+model.delG_e_o+model.delG_e_i+model.delG_e_s-(model.delR_v_o+model.delR_v_i+model.delR_v_s+model.delR_e_o+model.delR_e_i+model.delR_e_s)\n",
    "RSL_tot=sphericalobject(model.topo.topo[-1,:,:]-model.topo.topo[0,:,:]+model.ice.ice[0,:,:]-model.ice.ice[-1,:,:]).grdtocoeff(model)\n",
    "model.topo.update_topo_0() \n",
    "model.oc.evaluate_ocean(model.topo.topo_0).grdtocoeff(model)\n",
    "model.oc.update_oc_0()\n",
    "for t_it in range(1,model.time_step_number) :\n",
    "    print(model.time_step[t_it])\n",
    "    model.sed.calc_del_sed(t_it).grdtocoeff(model)\n",
    "    model.ice.calc_del_ice(t_it).grdtocoeff(model)\n",
    "    delSLcurl_fl=sphericalobject(C[t_it,:],'coeff').coefftogrd(model)\n",
    "    delSLcurl=sphericalobject(C[t_it,:]-model.sed.coeff-model.ice.coeff,'coeff').coefftogrd(model)\n",
    "    model.oc.evaluate_ocean(model.topo.topo[t_it,:,:]).grdtocoeff(model)\n",
    "    RO=sphericalobject(delSLcurl.grd*model.oc.grd).grdtocoeff(model)\n",
    "    TO=sphericalobject(model.topo.topo_0*(model.oc.grd-model.oc.oc_0_grd)).grdtocoeff(model)\n",
    "    #model.delPhi_g = np.real(1/model.oc.coeff[0] * (- model.ice.rho/model.oc.rho*model.ice.coeff[0] - RO.coeff[0] + TO.coeff[0]))\n",
    "    model.delPhi_g = np.real(1/model.oc.coeff[0] * (- model.ice.rho/model.oc.rho*model.ice.coeff[0]))\n",
    "    print(model.delPhi_g)\n",
    "    model.delSL[t_it,:]=sphericalobject(delSLcurl_fl.grd+model.delPhi_g).grdtocoeff(model).coeff"
   ]
  },
  {
   "cell_type": "code",
   "execution_count": 6,
   "metadata": {},
   "outputs": [],
   "source": [
    "ESL=np.zeros((model.time_step_number,))\n",
    "for i in range(model.time_step_number):\n",
    "    ESL[i]=np.real(-model.ice.calc_del_ice(i).grdtocoeff(model).coeff[0]/model.oc.area*model.ice.rho/model.oc.rho)\n",
    "ESL-=ESL.max()"
   ]
  },
  {
   "cell_type": "markdown",
   "metadata": {},
   "source": [
    "# Loading and saving sata"
   ]
  },
  {
   "cell_type": "code",
   "execution_count": null,
   "metadata": {},
   "outputs": [],
   "source": [
    "import pickle\n",
    "way='C:/Users/ahenry01/Desktop/Python_code/SL_C0de_output/Article Irrawaddy/v_lm/v_lm.VM5a.l60.um21.lm22.449_postt'\n",
    "with open(way+'.pkl', 'rb') as handle:\n",
    "            data = pickle.load(handle)\n",
    "model.delR_e_o=data['delR_e_o']\n",
    "model.delR_e_s=data['delR_e_s']\n",
    "model.delR_e_i=data['delR_e_i']\n",
    "model.delR_v_o=data['delR_v_o']\n",
    "model.delR_v_s=data['delR_v_s']\n",
    "model.delR_v_i=data['delR_v_i']\n",
    "model.delG_e_o=data['delG_e_o']\n",
    "model.delG_e_s=data['delG_e_s']\n",
    "model.delG_e_i=data['delG_e_i']\n",
    "model.delG_v_o=data['delG_v_o']\n",
    "model.delG_v_s=data['delG_v_s']\n",
    "model.delG_v_i=data['delG_v_i']\n",
    "#model.delSL=data['delSL']\n",
    "#ESL=data['ESL']"
   ]
  },
  {
   "cell_type": "code",
   "execution_count": 1,
   "metadata": {},
   "outputs": [
    {
     "ename": "NameError",
     "evalue": "name 'model' is not defined",
     "output_type": "error",
     "traceback": [
      "\u001b[1;31m---------------------------------------------------------------------------\u001b[0m",
      "\u001b[1;31mNameError\u001b[0m                                 Traceback (most recent call last)",
      "\u001b[1;32mc:\\Users\\ahenry01\\Desktop\\Python_code\\SL_C0de_lib_0_3_6\\SL_C0de\\Post_Process.ipynb Cellule 15\u001b[0m in \u001b[0;36m<cell line: 2>\u001b[1;34m()\u001b[0m\n\u001b[0;32m      <a href='vscode-notebook-cell:/c%3A/Users/ahenry01/Desktop/Python_code/SL_C0de_lib_0_3_6/SL_C0de/Post_Process.ipynb#X20sZmlsZQ%3D%3D?line=0'>1</a>\u001b[0m \u001b[39mimport\u001b[39;00m \u001b[39mpickle\u001b[39;00m\n\u001b[1;32m----> <a href='vscode-notebook-cell:/c%3A/Users/ahenry01/Desktop/Python_code/SL_C0de_lib_0_3_6/SL_C0de/Post_Process.ipynb#X20sZmlsZQ%3D%3D?line=1'>2</a>\u001b[0m Data_dict\u001b[39m=\u001b[39m{\u001b[39m'\u001b[39m\u001b[39mdelR_e_s\u001b[39m\u001b[39m'\u001b[39m:model\u001b[39m.\u001b[39mdelR_e_s,\u001b[39m'\u001b[39m\u001b[39mdelR_v_s\u001b[39m\u001b[39m'\u001b[39m:model\u001b[39m.\u001b[39mdelR_v_s,\u001b[39m'\u001b[39m\u001b[39mdelR_e_o\u001b[39m\u001b[39m'\u001b[39m:model\u001b[39m.\u001b[39mdelR_e_o,\u001b[39m'\u001b[39m\u001b[39mdelR_v_o\u001b[39m\u001b[39m'\u001b[39m:model\u001b[39m.\u001b[39mdelR_v_o,\u001b[39m'\u001b[39m\u001b[39mdelR_e_i\u001b[39m\u001b[39m'\u001b[39m:model\u001b[39m.\u001b[39mdelR_e_i,\u001b[39m'\u001b[39m\u001b[39mdelR_v_i\u001b[39m\u001b[39m'\u001b[39m:model\u001b[39m.\u001b[39mdelR_v_i,\u001b[39m'\u001b[39m\u001b[39mdelG_e_s\u001b[39m\u001b[39m'\u001b[39m:model\u001b[39m.\u001b[39mdelG_e_s,\u001b[39m'\u001b[39m\u001b[39mdelG_v_s\u001b[39m\u001b[39m'\u001b[39m:model\u001b[39m.\u001b[39mdelG_v_s,\u001b[39m'\u001b[39m\u001b[39mdelG_e_o\u001b[39m\u001b[39m'\u001b[39m:model\u001b[39m.\u001b[39mdelG_e_o,\u001b[39m'\u001b[39m\u001b[39mdelG_v_o\u001b[39m\u001b[39m'\u001b[39m:model\u001b[39m.\u001b[39mdelG_v_o,\u001b[39m'\u001b[39m\u001b[39mdelG_e_i\u001b[39m\u001b[39m'\u001b[39m:model\u001b[39m.\u001b[39mdelG_e_i,\u001b[39m'\u001b[39m\u001b[39mdelG_v_i\u001b[39m\u001b[39m'\u001b[39m:model\u001b[39m.\u001b[39mdelG_v_i,\u001b[39m'\u001b[39m\u001b[39mdelSL\u001b[39m\u001b[39m'\u001b[39m:model\u001b[39m.\u001b[39mdelSL,\u001b[39m'\u001b[39m\u001b[39mESL\u001b[39m\u001b[39m'\u001b[39m:ESL}\n\u001b[0;32m      <a href='vscode-notebook-cell:/c%3A/Users/ahenry01/Desktop/Python_code/SL_C0de_lib_0_3_6/SL_C0de/Post_Process.ipynb#X20sZmlsZQ%3D%3D?line=2'>3</a>\u001b[0m output_way\u001b[39m=\u001b[39m\u001b[39m'\u001b[39m\u001b[39mC:/Users/ahenry01/Desktop/Python_code/SL_C0de_output/Article Irrawaddy/v_um/\u001b[39m\u001b[39m'\u001b[39m\n\u001b[0;32m      <a href='vscode-notebook-cell:/c%3A/Users/ahenry01/Desktop/Python_code/SL_C0de_lib_0_3_6/SL_C0de/Post_Process.ipynb#X20sZmlsZQ%3D%3D?line=3'>4</a>\u001b[0m subname\u001b[39m=\u001b[39m\u001b[39m'\u001b[39m\u001b[39mvl.VM5a.l50.um21.lm22.699\u001b[39m\u001b[39m'\u001b[39m\n",
      "\u001b[1;31mNameError\u001b[0m: name 'model' is not defined"
     ]
    }
   ],
   "source": [
    "import pickle\n",
    "Data_dict={'delR_e_s':model.delR_e_s,'delR_v_s':model.delR_v_s,'delR_e_o':model.delR_e_o,'delR_v_o':model.delR_v_o,'delR_e_i':model.delR_e_i,'delR_v_i':model.delR_v_i,'delG_e_s':model.delG_e_s,'delG_v_s':model.delG_v_s,'delG_e_o':model.delG_e_o,'delG_v_o':model.delG_v_o,'delG_e_i':model.delG_e_i,'delG_v_i':model.delG_v_i,'delSL':model.delSL,'ESL':ESL}\n",
    "output_way='C:/Users/ahenry01/Desktop/Python_code/SL_C0de_output/Article Irrawaddy/v_um/'\n",
    "subname='vl.VM5a.l50.um21.lm22.699'\n",
    "with open(output_way+subname+'_postt'+'.pkl', 'wb') as f:\n",
    "            pickle.dump(Data_dict, f)"
   ]
  },
  {
   "cell_type": "markdown",
   "metadata": {},
   "source": [
    "# Compute sequential deformation"
   ]
  },
  {
   "cell_type": "markdown",
   "metadata": {},
   "source": [
    "## Sequential Ice load deformation"
   ]
  },
  {
   "cell_type": "code",
   "execution_count": 5,
   "metadata": {},
   "outputs": [],
   "source": [
    "delL=np.zeros((model.time_step_number,int((model.maxdeg+1)*(model.maxdeg+2)/2)))+0j\n",
    "sdelL=np.zeros((model.time_step_number,int((model.maxdeg+1)*(model.maxdeg+2)/2)))+0j\n",
    "delL_prev=delL[0,:]\n",
    "if not('beta_R_l' in model.love.__dict__):\n",
    "    model.love.calc_beta_R(model)\n",
    "if not('beta_G_l' in model.love.__dict__):\n",
    "    model.love.calc_beta_G(model)\n",
    "model.delR_e_i=np.zeros((model.time_step_number,int((model.maxdeg+1)*(model.maxdeg+2)/2)))+1j\n",
    "model.delR_v_i=np.zeros((model.time_step_number,int((model.maxdeg+1)*(model.maxdeg+2)/2)))+1j\n",
    "model.delG_e_i=np.zeros((model.time_step_number,int((model.maxdeg+1)*(model.maxdeg+2)/2)))+1j\n",
    "model.delG_v_i=np.zeros((model.time_step_number,int((model.maxdeg+1)*(model.maxdeg+2)/2)))+1j\n",
    "model.delR_v_decomp_i=np.zeros((model.time_step_number,model.time_step_number,int((model.maxdeg+1)*(model.maxdeg+2)/2)))+1j\n",
    "model.delG_v_decomp_i=np.zeros((model.time_step_number,model.time_step_number,int((model.maxdeg+1)*(model.maxdeg+2)/2)))+1j\n",
    "for t_it in range(1,model.time_step_number):\n",
    "    delL[t_it,:]=model.ice.calc_del_ice(t_it).grdtocoeff(model).coeff*model.ice.rho\n",
    "    sdelL[t_it-1,:]=delL[t_it,:]-delL[t_it-1,:]\n",
    "    model.delR_e_i[t_it,:]=model.love.T.coeff*model.love.h.coeff*delL[t_it,:]\n",
    "    model.load.calc_viscuous_load(model,t_it,sdelL,model.love.beta_R_l)\n",
    "    model.delR_v_decomp_i[t_it-1,:t_it-1,:]=(model.love.beta_R_l[t_it-1,:t_it-1].transpose()*sdelL[:t_it-1].transpose()).transpose()\n",
    "    model.delR_v_i[t_it,:]=model.love.T.coeff*model.load.V_lm.coeff\n",
    "    model.delG_e_i[t_it,:]=model.love.T.coeff*model.love.k.coeff*delL[t_it,:]\n",
    "    model.load.calc_viscuous_load(model,t_it,sdelL,model.love.beta_G_l)\n",
    "    model.delG_v_decomp_i[t_it-1,:t_it-1,:]=(model.love.beta_G_l[t_it-1,:t_it-1].transpose()*sdelL[:t_it-1].transpose()).transpose()\n",
    "    model.delG_v_i[t_it,:]=model.love.T.coeff*model.load.V_lm.coeff"
   ]
  },
  {
   "cell_type": "markdown",
   "metadata": {},
   "source": [
    "## Sequencetial Sediment load deformation"
   ]
  },
  {
   "cell_type": "code",
   "execution_count": 6,
   "metadata": {},
   "outputs": [],
   "source": [
    "delL=np.zeros((model.time_step_number,int((model.maxdeg+1)*(model.maxdeg+2)/2)))+0j\n",
    "sdelL=np.zeros((model.time_step_number,int((model.maxdeg+1)*(model.maxdeg+2)/2)))+0j\n",
    "delL_prev=delL[0,:]\n",
    "if not('beta_R_l' in model.love.__dict__):\n",
    "    model.love.calc_beta_R(model)\n",
    "if not('beta_G_l' in model.love.__dict__):\n",
    "    model.love.calc_beta_G(model)\n",
    "model.delR_e_s=np.zeros((model.time_step_number,int((model.maxdeg+1)*(model.maxdeg+2)/2)))+1j\n",
    "model.delR_v_s=np.zeros((model.time_step_number,int((model.maxdeg+1)*(model.maxdeg+2)/2)))+1j\n",
    "model.delG_e_s=np.zeros((model.time_step_number,int((model.maxdeg+1)*(model.maxdeg+2)/2)))+1j\n",
    "model.delG_v_s=np.zeros((model.time_step_number,int((model.maxdeg+1)*(model.maxdeg+2)/2)))+1j\n",
    "model.delR_v_decomp_s=np.zeros((model.time_step_number,model.time_step_number,int((model.maxdeg+1)*(model.maxdeg+2)/2)))+1j\n",
    "model.delG_v_decomp_s=np.zeros((model.time_step_number,model.time_step_number,int((model.maxdeg+1)*(model.maxdeg+2)/2)))+1j\n",
    "for t_it in range(1,model.time_step_number):\n",
    "    delL[t_it,:]=model.sed.calc_del_sed(t_it).grdtocoeff(model).coeff*model.sed.rho\n",
    "    sdelL[t_it-1,:]=delL[t_it,:]-delL[t_it-1,:]\n",
    "    model.delR_e_s[t_it,:]=model.love.T.coeff*model.love.h.coeff*delL[t_it,:]\n",
    "    model.load.calc_viscuous_load(model,t_it,sdelL,model.love.beta_R_l)\n",
    "    model.delR_v_decomp_s[t_it-1,:t_it-1,:]=(model.love.beta_R_l[t_it-1,:t_it-1].transpose()*sdelL[:t_it-1].transpose()).transpose()\n",
    "    model.delR_v_s[t_it,:]=model.love.T.coeff*model.load.V_lm.coeff\n",
    "    model.delG_e_s[t_it,:]=model.love.T.coeff*model.love.k.coeff*delL[t_it,:]\n",
    "    model.load.calc_viscuous_load(model,t_it,sdelL,model.love.beta_G_l)\n",
    "    model.delG_v_decomp_s[t_it-1,:t_it-1,:]=(model.love.beta_G_l[t_it-1,:t_it-1].transpose()*sdelL[:t_it-1].transpose()).transpose()\n",
    "    model.delG_v_s[t_it,:]=model.love.T.coeff*model.load.V_lm.coeff"
   ]
  },
  {
   "cell_type": "markdown",
   "metadata": {},
   "source": [
    "## Sequencetial Ocean load deformation"
   ]
  },
  {
   "cell_type": "code",
   "execution_count": 7,
   "metadata": {},
   "outputs": [
    {
     "name": "stdout",
     "output_type": "stream",
     "text": [
      "1\n",
      "2\n",
      "3\n",
      "4\n",
      "5\n",
      "6\n",
      "7\n",
      "8\n",
      "9\n",
      "10\n",
      "11\n",
      "12\n",
      "13\n",
      "14\n",
      "15\n",
      "16\n",
      "17\n",
      "18\n",
      "19\n",
      "20\n",
      "21\n",
      "22\n",
      "23\n",
      "24\n",
      "25\n",
      "26\n",
      "27\n",
      "28\n",
      "29\n",
      "30\n",
      "31\n",
      "32\n",
      "33\n",
      "34\n",
      "35\n",
      "36\n",
      "37\n",
      "38\n",
      "39\n",
      "40\n",
      "41\n",
      "42\n",
      "43\n",
      "44\n",
      "45\n",
      "46\n"
     ]
    }
   ],
   "source": [
    "delL=np.zeros((model.time_step_number,int((model.maxdeg+1)*(model.maxdeg+2)/2)))+0j\n",
    "sdelL=np.zeros((model.time_step_number,int((model.maxdeg+1)*(model.maxdeg+2)/2)))+0j\n",
    "delL_prev=delL[0,:]\n",
    "if not('beta_R_l' in model.love.__dict__):\n",
    "    model.love.calc_beta_R(model)\n",
    "if not('beta_G_l' in model.love.__dict__):\n",
    "    model.love.calc_beta_G(model)\n",
    "model.delR_e_o=np.zeros((model.time_step_number,int((model.maxdeg+1)*(model.maxdeg+2)/2)))+1j\n",
    "model.delR_v_o=np.zeros((model.time_step_number,int((model.maxdeg+1)*(model.maxdeg+2)/2)))+1j\n",
    "model.delG_e_o=np.zeros((model.time_step_number,int((model.maxdeg+1)*(model.maxdeg+2)/2)))+1j\n",
    "model.delG_v_o=np.zeros((model.time_step_number,int((model.maxdeg+1)*(model.maxdeg+2)/2)))+1j\n",
    "model.delR_v_decomp_o=np.zeros((model.time_step_number,model.time_step_number,int((model.maxdeg+1)*(model.maxdeg+2)/2)))+1j\n",
    "model.delG_v_decomp_o=np.zeros((model.time_step_number,model.time_step_number,int((model.maxdeg+1)*(model.maxdeg+2)/2)))+1j\n",
    "for t_it in range(1,model.time_step_number):\n",
    "    print(t_it)\n",
    "    delL[t_it,:]=model.SL.delS.saved[t_it,:]*model.oc.rho\n",
    "    sdelL[t_it-1,:]=delL[t_it,:]-delL[t_it-1,:]\n",
    "    model.delR_e_o[t_it,:]=model.love.T.coeff*model.love.h.coeff*delL[t_it,:]\n",
    "    model.load.calc_viscuous_load(model,t_it,sdelL,model.love.beta_R_l)\n",
    "    model.delR_v_decomp_o[t_it-1,:t_it-1,:]=(model.love.beta_R_l[t_it-1,:t_it-1].transpose()*sdelL[:t_it-1].transpose()).transpose()\n",
    "    model.delR_v_o[t_it,:]=model.love.T.coeff*model.load.V_lm.coeff\n",
    "    model.delG_e_o[t_it,:]=model.love.T.coeff*model.love.k.coeff*delL[t_it,:]\n",
    "    model.load.calc_viscuous_load(model,t_it,sdelL,model.love.beta_G_l)\n",
    "    model.delG_v_decomp_o[t_it-1,:t_it-1,:]=(model.love.beta_G_l[t_it-1,:t_it-1].transpose()*sdelL[:t_it-1].transpose()).transpose()\n",
    "    model.delG_v_o[t_it,:]=model.love.T.coeff*model.load.V_lm.coeff"
   ]
  },
  {
   "cell_type": "markdown",
   "metadata": {},
   "source": [
    "## Saving code"
   ]
  },
  {
   "cell_type": "code",
   "execution_count": 10,
   "metadata": {},
   "outputs": [],
   "source": [
    "import pickle\n",
    "import joblib\n",
    "\n",
    "Data_dict={'delR_e_s':model.delR_e_s,'delR_v_s':model.delR_v_s,'delR_e_o':model.delR_e_o,'delR_v_o':model.delR_v_o,'delR_e_i':model.delR_e_i,'delR_v_i':model.delR_v_i,'delG_e_s':model.delG_e_s,'delG_v_s':model.delG_v_s,'delG_e_o':model.delG_e_o,'delG_v_o':model.delG_v_o,'delG_e_i':model.delG_e_i,'delG_v_i':model.delG_v_i,'delSL':model.delSL,'ESL':ESL,'delR_v_decomp_i':model.delR_v_decomp_i,'delG_v_decomp_i':model.delG_v_decomp_i,'delR_v_decomp_s':model.delR_v_decomp_s,'delG_v_decomp_s':model.delG_v_decomp_s,'delR_v_decomp_i':model.delR_v_decomp_o,'delG_v_decomp_i':model.delG_v_decomp_o}\n",
    "output_way='C:/Users/ahenry01/Desktop/Python_code/SL_C0de_output/Article Irrawaddy/'\n",
    "subname='base.VM5a.l60.um21.lm22.699'\n",
    "with open(output_way+subname+'_postt'+'.pkl', 'wb') as f:\n",
    "            joblib.dump(Data_dict, f)"
   ]
  }
 ],
 "metadata": {
  "kernelspec": {
   "display_name": "Python 3.10.5 ('SL_C0de')",
   "language": "python",
   "name": "python3"
  },
  "language_info": {
   "codemirror_mode": {
    "name": "ipython",
    "version": 3
   },
   "file_extension": ".py",
   "mimetype": "text/x-python",
   "name": "python",
   "nbconvert_exporter": "python",
   "pygments_lexer": "ipython3",
   "version": "3.10.5"
  },
  "orig_nbformat": 4,
  "vscode": {
   "interpreter": {
    "hash": "f954f324f1fd0a5f0c100f80763cbff21d1825779744633bc71c94ab1f555431"
   }
  }
 },
 "nbformat": 4,
 "nbformat_minor": 2
}
