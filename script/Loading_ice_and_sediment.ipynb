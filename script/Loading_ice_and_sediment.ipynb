{
 "cells": [
  {
   "attachments": {},
   "cell_type": "markdown",
   "metadata": {},
   "source": [
    "# Managing input files \n",
    "In this notebook we will see how to load and correctly prepare the data for the computation of the Sea level equation resolution."
   ]
  },
  {
   "cell_type": "code",
   "execution_count": null,
   "metadata": {},
   "outputs": [
    {
     "ename": "",
     "evalue": "",
     "output_type": "error",
     "traceback": [
      "\u001b[1;31mLes cellules en cours d’exécution avec test_SL_C0de nécessitent le package ipykernel.\n",
      "\u001b[1;31mRun the following command to install 'ipykernel' into the Python environment. \n",
      "\u001b[1;31mCommand: 'conda install -n test_SL_C0de ipykernel --update-deps --force-reinstall'"
     ]
    }
   ],
   "source": [
    "from scipy import io\n",
    "import numpy as np\n",
    "from slcode.grid import TIME_GRID\n",
    "import matplotlib.pyplot as plt"
   ]
  },
  {
   "attachments": {},
   "cell_type": "markdown",
   "metadata": {},
   "source": [
    "## First load the ice6G data\n",
    "We choose to use the ICE6G model in our code as example. This model is not the only one existing there is ICE5G and ICE7G. The input data are of the shape, "
   ]
  },
  {
   "cell_type": "code",
   "execution_count": null,
   "metadata": {},
   "outputs": [],
   "source": [
    "data=io.loadmat('C:/Users/ahenry01/Desktop/Python_code/SL_C0de_data/ice6G122k') #load the file, can be modified to load an other file.\n",
    "ice_in=data['ice6g']\n",
    "ice_time=data['ice_time']\n",
    "ice_time=ice_time.squeeze()\n",
    "ice_lon =data['ice_long'].squeeze()\n",
    "ice_lat =data['ice_lat'].squeeze()[::-1]"
   ]
  },
  {
   "cell_type": "code",
   "execution_count": null,
   "metadata": {},
   "outputs": [],
   "source": [
    "time_step=np.linspace(120,0,120,-1)\n",
    "maxdeg=64"
   ]
  },
  {
   "cell_type": "code",
   "execution_count": null,
   "metadata": {},
   "outputs": [],
   "source": [
    "ice_time_grid=TIME_GRID(len(time_step),maxdeg)\n",
    "ice_time_grid.interp_on_time_and_space(ice_in.T,ice_time,time_step,len(time_step),ice_lon,ice_lat,backend=True)\n"
   ]
  },
  {
   "cell_type": "code",
   "execution_count": null,
   "metadata": {},
   "outputs": [],
   "source": [
    "ice_time_grid.plot_step_on_sphere(20)\n",
    "plt.show()"
   ]
  },
  {
   "cell_type": "code",
   "execution_count": null,
   "metadata": {},
   "outputs": [],
   "source": [
    "import cartopy\n",
    "import cartopy.crs as ccrs\n",
    "from matplotlib import cm\n",
    "\n",
    "cmap=cm.get_cmap('RdYlBu_r', 10)\n",
    "alpha_ocean=0.5\n",
    "coast_line_width=0.5\n",
    "\n",
    "fig = plt.figure(figsize=(12, 12), facecolor=\"none\")\n",
    "ax  = plt.subplot(111, projection=ccrs.Mollweide())\n",
    "ax.set_global()\n",
    "colormap = cmap\n",
    "m = ax.imshow(ice_time_grid.height_time_grid[time_step,:,:], origin='lower', transform=ccrs.PlateCarree(),extent=[0,360, -89, 89], zorder=0, cmap=colormap, interpolation=\"gaussian\")\n",
    "plt.colorbar(mappable=m, orientation=\"horizontal\", shrink=0.5)\n",
    "ax.add_feature(cartopy.feature.OCEAN, alpha=alpha_ocean, zorder=99, facecolor=\"#BBBBBB\")\n",
    "ax.coastlines(resolution=\"50m\", zorder=100, linewidth=coast_line_width)"
   ]
  }
 ],
 "metadata": {
  "kernelspec": {
   "display_name": "test_SL_C0de",
   "language": "python",
   "name": "python3"
  },
  "language_info": {
   "name": "python",
   "version": "3.9.7"
  },
  "orig_nbformat": 4,
  "vscode": {
   "interpreter": {
    "hash": "63b6bc7a6f01ec17a1473df233157a38f1a62245770e22e348b36adb2c545859"
   }
  }
 },
 "nbformat": 4,
 "nbformat_minor": 2
}
