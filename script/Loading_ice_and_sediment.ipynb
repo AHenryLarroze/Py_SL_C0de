{
 "cells": [
  {
   "attachments": {},
   "cell_type": "markdown",
   "metadata": {},
   "source": [
    "# Managing input files \n",
    "In this notebook we will see how to load and correctly prepare the data for the computation of the Sea level equation resolution."
   ]
  },
  {
   "cell_type": "code",
   "execution_count": 5,
   "metadata": {},
   "outputs": [],
   "source": [
    "from scipy import io\n",
    "import numpy as np\n",
    "from SL_C0de.grid import TIME_GRID\n",
    "import matplotlib.pyplot as plt"
   ]
  },
  {
   "attachments": {},
   "cell_type": "markdown",
   "metadata": {},
   "source": [
    "## First load the ice6G data\n",
    "We choose to use the ICE6G model in our code as example. This model is not the only one existing there is ICE5G and ICE7G. The input data are of the shape, "
   ]
  },
  {
   "cell_type": "code",
   "execution_count": 6,
   "metadata": {},
   "outputs": [],
   "source": [
    "data=io.loadmat('C:/Users/ahenry01/Desktop/Python_code/SL_C0de_data/ice6G122k') #load the file, can be modified to load an other file.\n",
    "ice_in=data['ice6g']\n",
    "ice_time=data['ice_time']\n",
    "ice_time=ice_time.squeeze()\n",
    "ice_lon =data['ice_long'].squeeze()\n",
    "ice_lat =data['ice_lat'].squeeze()[::-1]"
   ]
  },
  {
   "cell_type": "code",
   "execution_count": 7,
   "metadata": {},
   "outputs": [],
   "source": [
    "time_step=np.linspace(120,0,120,-1)\n",
    "maxdeg=64"
   ]
  },
  {
   "cell_type": "code",
   "execution_count": null,
   "metadata": {},
   "outputs": [],
   "source": [
    "ice_time_grid=TIME_GRID(len(time_step),maxdeg)\n",
    "ice_time_grid.interp_on_time_and_space(ice_in.T,ice_time,time_step,len(time_step),ice_lon,ice_lat,backend=True)\n"
   ]
  },
  {
   "cell_type": "code",
   "execution_count": null,
   "metadata": {},
   "outputs": [],
   "source": [
    "ice_time_grid.plot_step_on_sphere(20)\n",
    "plt.show()"
   ]
  },
  {
   "cell_type": "code",
   "execution_count": null,
   "metadata": {},
   "outputs": [],
   "source": [
    "import cartopy\n",
    "import cartopy.crs as ccrs\n",
    "from matplotlib import cm\n",
    "\n",
    "cmap=cm.get_cmap('RdYlBu_r', 10)\n",
    "alpha_ocean=0.5\n",
    "coast_line_width=0.5\n",
    "\n",
    "fig = plt.figure(figsize=(12, 12), facecolor=\"none\")\n",
    "ax  = plt.subplot(111, projection=ccrs.Mollweide())\n",
    "ax.set_global()\n",
    "colormap = cmap\n",
    "m = ax.imshow(ice_time_grid.height_time_grid[time_step,:,:], origin='lower', transform=ccrs.PlateCarree(),extent=[0,360, -89, 89], zorder=0, cmap=colormap, interpolation=\"gaussian\")\n",
    "plt.colorbar(mappable=m, orientation=\"horizontal\", shrink=0.5)\n",
    "ax.add_feature(cartopy.feature.OCEAN, alpha=alpha_ocean, zorder=99, facecolor=\"#BBBBBB\")\n",
    "ax.coastlines(resolution=\"50m\", zorder=100, linewidth=coast_line_width)"
   ]
  }
 ],
 "metadata": {
  "kernelspec": {
   "display_name": "SL_C0de",
   "language": "python",
   "name": "python3"
  },
  "language_info": {
   "codemirror_mode": {
    "name": "ipython",
    "version": 3
   },
   "file_extension": ".py",
   "mimetype": "text/x-python",
   "name": "python",
   "nbconvert_exporter": "python",
   "pygments_lexer": "ipython3",
   "version": "3.11.0"
  },
  "orig_nbformat": 4,
  "vscode": {
   "interpreter": {
    "hash": "f954f324f1fd0a5f0c100f80763cbff21d1825779744633bc71c94ab1f555431"
   }
  }
 },
 "nbformat": 4,
 "nbformat_minor": 2
}
