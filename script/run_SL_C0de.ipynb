{
 "cells": [
  {
   "cell_type": "code",
   "execution_count": null,
   "metadata": {},
   "outputs": [],
   "source": [
    "from SL_C0de.SOLVER import Precomputation\n",
    "\n",
    "from scipy import io\n",
    "import numpy as np\n",
    "import matplotlib.pyplot as plt\n",
    "import pandas as pd\n",
    "\n",
    "# Loading Ice data\n",
    "\n",
    "data=io.loadmat(r'I:/SL_C0de/SL_C0de_data/ice6G122k') #load the file, can be modified to load an other file.\n",
    "ice_in=data['ice6g']# ice_in[temps, latitude, longitude] hauteur de la glace\n",
    "ice_time=data['ice_time']\n",
    "ice_time=ice_time.squeeze()\n",
    "ice_time=np.append(ice_time[0]+1,ice_time)\n",
    "ice_lon =data['ice_long'].squeeze()\n",
    "ice_lat =data['ice_lat'].squeeze()[::-1]\n",
    "# The ice is not in the good shape. We have to derivate it : \n",
    "ice_0=ice_in.T[0,:,:].copy()\n",
    "ice_in=np.diff(ice_in.T,axis=0)\n",
    "ice_in=np.concatenate((np.expand_dims(ice_0,axis=0),ice_in),axis=0)\n",
    "\n",
    "ice_grid=dict(name='ICE_ICE6G', grid=ice_in, time=ice_time,lon=ice_lon,lat=ice_lat)\n",
    "\n",
    "# Loading sediment loading data\n",
    "\n",
    "sed_ncgrid = pd.read_csv(r'I:/SL_C0de/SL_C0de_data/AYS2_sed.csv') \n",
    "\n",
    "lon=np.array(sed_ncgrid[\"POINT_X.N.19.11\"])\n",
    "lat=np.array(sed_ncgrid[\"POINT_Y.N.19.11\"])\n",
    "sed=np.array(sed_ncgrid[:]).T/4\n",
    "sed=sed[3:,:]\n",
    "#sed=sed[::-1,:]*0 # add a zero sediment model\n",
    "sed_time_step=np.arange(26.25,-0.25,-0.25)\n",
    "\n",
    "area=(93,98,13,20)\n",
    "\n",
    "sed_grid=dict(name='AYS2', grid=sed, time=sed_time_step,lon=lon,lat=lat,frame=area)\n",
    "\n",
    "# Loading topographic data\n",
    "\n",
    "data=io.loadmat(r'I:/SL_C0de/SL_C0de_data/topo_SL') #load the file, can be modified to load an other file.\n",
    "topo_grid=data['topo_bed'][::2,1::2].squeeze()\n",
    "topo_lat=data['lat_topo'].squeeze()[::-2]\n",
    "topo_lon=data['lon_topo'].squeeze()[1::2]\n",
    "\n",
    "topo_grid=dict(name='topo_SL',grid=topo_grid,lon=topo_lon,lat=topo_lat)\n",
    "\n",
    "\n"
   ]
  },
  {
   "cell_type": "code",
   "execution_count": null,
   "metadata": {},
   "outputs": [],
   "source": [
    "# Precompute the full data to prepare the next resolution of the SLE\n",
    "\n",
    "stop=26 # define the number of time steps\n",
    "step=0.25\n",
    "time_step=np.arange(start=stop,stop=-step,step=-step) # in kyr to present\n",
    "time_step[-1]=0\n",
    "maxdeg=384 # define the maximum degree for spherical harmonics.\n",
    "Output_way='I:/SL_C0de/Interpolated_grid/Test_0.25kyr'\n",
    "plot=True\n",
    "\n",
    "Precomputation(ice_grid,sed_grid,topo_grid,Output_way,stop=stop,step=step,maxdeg=maxdeg,plot=plot)\n"
   ]
  },
  {
   "cell_type": "code",
   "execution_count": null,
   "metadata": {},
   "outputs": [],
   "source": [
    "# Solve the SLE in forward modeling way \n",
    "from SL_C0de.SOLVER import SLE_forward_modeling\n",
    "\n",
    "Input_way='H:/SL_C0de/Interpolated_grid/Test'\n",
    "ice_name='ICE_ICE6G'\n",
    "sediment_name='AYS2'\n",
    "topo_name='topo_SL'\n",
    "ocean_name='OCE'\n",
    "love_way='H:/SL_C0de/SL_C0de_data/variable_lm_32'\n",
    "love_file='VM5a.l32.um21.lm22.449'\n",
    "conv_lim=10e-10\n",
    "Output_way='H:/SL_C0de/Interpolated_grid/Test'\n",
    "\n",
    "SLE_forward_modeling(Input_way,ice_name,sediment_name,topo_name,ocean_name,love_way,love_file,conv_lim,Output_way)"
   ]
  },
  {
   "cell_type": "code",
   "execution_count": null,
   "metadata": {},
   "outputs": [],
   "source": [
    "from SL_C0de.SOLVER import SLE_solver\n",
    "\n",
    "Input_way='I:/SL_C0de/Interpolated_grid/Test_6kyr'\n",
    "ice_name='ICE_ICE6G'\n",
    "sediment_name='AYS2'\n",
    "topo_name='topo_SL'\n",
    "ocean_name='OCE'\n",
    "love_way='I:/SL_C0de/SL_C0de_data/'\n",
    "love_file='VM5a_122'\n",
    "conv_lim=10e-10\n",
    "topo_lim=1\n",
    "Output_way='I:/SL_C0de/Interpolated_grid/Test_6kyr'\n",
    "\n",
    "load=SLE_solver(Input_way,ice_name,sediment_name,topo_name,ocean_name,love_way,love_file,topo_lim,conv_lim,Output_way)"
   ]
  },
  {
   "cell_type": "code",
   "execution_count": null,
   "metadata": {},
   "outputs": [],
   "source": [
    "from SL_C0de.SOLVER import Post_process\n",
    "\n",
    "Input_way='I:/SL_C0de/Interpolated_grid/Test_1024/model_output'\n",
    "sed_name='AYS2'\n",
    "ice_name='ICE_ICE6G'\n",
    "ocean_name='OCE'\n",
    "topo_name='topo_SL'\n",
    "love_way='I:/SL_C0de/SL_C0de_data'\n",
    "Post_process(Input_way,sed_name,ice_name,ocean_name,topo_name,love_way)"
   ]
  },
  {
   "cell_type": "code",
   "execution_count": null,
   "metadata": {},
   "outputs": [],
   "source": [
    "import numpy as np\n",
    "Input_way='H:/SL_C0de/Interpolated_grid/Test_512/model_output/VM5A.l32.um20.25.lm22.699'\n",
    "plot=dict(plot=True,\n",
    "          times=[0,1,15,20],\n",
    "          frames=[(-179,179,-89,89),(93,98,13,20)],\n",
    "          frames_resolution=[1024,2048],\n",
    "          #frames_min_max=np.array([[-30,200,-3,20],[-2,3,-0.2,0.1]]),\n",
    "          frames_min_max=np.array([[None,None,None,None],[None,None,None,None]]),\n",
    "          contours_v=[[[i for i in range(-30,-10,10)]+[i for i in range(-10,10,1)]+[i for i in range(10,30+1,10)]+[100,200],\n",
    "                       [i/10 for i in range(-18,0,1)]+[i/20 for i in range(0,10,1)]],\n",
    "                       [[-3,-0.1,0,0.1,3,10,20],[-0.6,-0.3,-0.2,-0.15,-0.1,0]]],\n",
    "          #contours_v=[[[None],[None]],[[None],[None]]],\n",
    "          transects=[(21.63,96.01,11.1235,96.04),(15.347829, 89.811065,15.531321, 99.098801)],\n",
    "          point_density=[512,512],\n",
    "          transect_min_max=[(-2,0.5,-0.7,1),(-3,2,-0.7,1)],\n",
    "          points=np.array([[16.8,96],[15,96.25],[15.9609036,95.4758372],[16.0318760,94.8894641],[16.3469326,95.2544328]]),\n",
    "        )"
   ]
  },
  {
   "cell_type": "code",
   "execution_count": null,
   "metadata": {},
   "outputs": [],
   "source": [
    "from SL_C0de.SOLVER import plot_model_result_map\n",
    "plot_model_result_map(Input_way,plot)"
   ]
  },
  {
   "cell_type": "code",
   "execution_count": null,
   "metadata": {},
   "outputs": [],
   "source": [
    "from SL_C0de.SOLVER import plot_model_result_cross_section\n",
    "plot_model_result_cross_section(Input_way,plot)"
   ]
  },
  {
   "cell_type": "code",
   "execution_count": null,
   "metadata": {},
   "outputs": [],
   "source": [
    "from SL_C0de.SOLVER import plot_model_output_points\n",
    "plot_model_output_points(Input_way,plot)"
   ]
  },
  {
   "cell_type": "code",
   "execution_count": null,
   "metadata": {},
   "outputs": [],
   "source": [
    "from SL_C0de.SOLVER import plot_model_RSL\n",
    "plot_model_RSL(plot,Input_way,Input_way)"
   ]
  },
  {
   "cell_type": "code",
   "execution_count": null,
   "metadata": {},
   "outputs": [],
   "source": [
    "from SL_C0de.SOLVER import export_to_netcdf \n",
    "export_to_netcdf(Input_way,0,plot['frames_resolution'][1],plot['frames'][1],Input_way+'\\LOAD','SEDIMENT','LOAD')\n"
   ]
  },
  {
   "cell_type": "code",
   "execution_count": null,
   "metadata": {},
   "outputs": [],
   "source": [
    "from SL_C0de.grid import LOAD_TIME_GRID\n",
    "Input_way=\"H:\\SL_C0de\\Interpolated_grid\\Test_512\\model_output\\VM5a.l32.um20.25.lm22.699\\LOAD\\TOTAL_GEOID\"\n",
    "geoid_grid=LOAD_TIME_GRID(from_file=(True,Input_way))"
   ]
  },
  {
   "cell_type": "code",
   "execution_count": null,
   "metadata": {},
   "outputs": [],
   "source": [
    "import numpy as np\n",
    "geoid_grid.height_time_coeff=geoid_grid.elastic_deformation+geoid_grid.viscuous_deformation\n",
    "geoid_grid.point_time(np.array([[15,96.25]]))"
   ]
  },
  {
   "cell_type": "code",
   "execution_count": null,
   "metadata": {},
   "outputs": [],
   "source": [
    "from SL_C0de.SOLVER import calculate_dESL\n",
    "Input_way=\"H:\\SL_C0de\\Interpolated_grid\\Test_512\\model_output\\VM5a.l32.um20.25.lm22.699\"\n",
    "calculate_dESL(Input_way)"
   ]
  }
 ],
 "metadata": {
  "kernelspec": {
   "display_name": "SL_C0de",
   "language": "python",
   "name": "python3"
  },
  "language_info": {
   "codemirror_mode": {
    "name": "ipython",
    "version": 3
   },
   "file_extension": ".py",
   "mimetype": "text/x-python",
   "name": "python",
   "nbconvert_exporter": "python",
   "pygments_lexer": "ipython3",
   "version": "3.11.3"
  }
 },
 "nbformat": 4,
 "nbformat_minor": 2
}
